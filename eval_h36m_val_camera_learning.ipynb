{
 "cells": [
  {
   "cell_type": "code",
   "execution_count": 1,
   "metadata": {},
   "outputs": [
    {
     "name": "stderr",
     "output_type": "stream",
     "text": [
      "Initializing people v.0.1.0\n",
      "CUDA_VISIBLE_DEVICES not defined\n",
      "Using TensorFlow backend.\n",
      "/home/diogo/.local/lib/python3.7/site-packages/tensorflow/python/framework/dtypes.py:516: FutureWarning: Passing (type, 1) or '1type' as a synonym of type is deprecated; in a future version of numpy, it will be understood as (type, (1,)) / '(1,)type'.\n",
      "  _np_qint8 = np.dtype([(\"qint8\", np.int8, 1)])\n",
      "/home/diogo/.local/lib/python3.7/site-packages/tensorflow/python/framework/dtypes.py:517: FutureWarning: Passing (type, 1) or '1type' as a synonym of type is deprecated; in a future version of numpy, it will be understood as (type, (1,)) / '(1,)type'.\n",
      "  _np_quint8 = np.dtype([(\"quint8\", np.uint8, 1)])\n",
      "/home/diogo/.local/lib/python3.7/site-packages/tensorflow/python/framework/dtypes.py:518: FutureWarning: Passing (type, 1) or '1type' as a synonym of type is deprecated; in a future version of numpy, it will be understood as (type, (1,)) / '(1,)type'.\n",
      "  _np_qint16 = np.dtype([(\"qint16\", np.int16, 1)])\n",
      "/home/diogo/.local/lib/python3.7/site-packages/tensorflow/python/framework/dtypes.py:519: FutureWarning: Passing (type, 1) or '1type' as a synonym of type is deprecated; in a future version of numpy, it will be understood as (type, (1,)) / '(1,)type'.\n",
      "  _np_quint16 = np.dtype([(\"quint16\", np.uint16, 1)])\n",
      "/home/diogo/.local/lib/python3.7/site-packages/tensorflow/python/framework/dtypes.py:520: FutureWarning: Passing (type, 1) or '1type' as a synonym of type is deprecated; in a future version of numpy, it will be understood as (type, (1,)) / '(1,)type'.\n",
      "  _np_qint32 = np.dtype([(\"qint32\", np.int32, 1)])\n",
      "/home/diogo/.local/lib/python3.7/site-packages/tensorflow/python/framework/dtypes.py:525: FutureWarning: Passing (type, 1) or '1type' as a synonym of type is deprecated; in a future version of numpy, it will be understood as (type, (1,)) / '(1,)type'.\n",
      "  np_resource = np.dtype([(\"resource\", np.ubyte, 1)])\n",
      "/home/diogo/.local/lib/python3.7/site-packages/tensorboard/compat/tensorflow_stub/dtypes.py:541: FutureWarning: Passing (type, 1) or '1type' as a synonym of type is deprecated; in a future version of numpy, it will be understood as (type, (1,)) / '(1,)type'.\n",
      "  _np_qint8 = np.dtype([(\"qint8\", np.int8, 1)])\n",
      "/home/diogo/.local/lib/python3.7/site-packages/tensorboard/compat/tensorflow_stub/dtypes.py:542: FutureWarning: Passing (type, 1) or '1type' as a synonym of type is deprecated; in a future version of numpy, it will be understood as (type, (1,)) / '(1,)type'.\n",
      "  _np_quint8 = np.dtype([(\"quint8\", np.uint8, 1)])\n",
      "/home/diogo/.local/lib/python3.7/site-packages/tensorboard/compat/tensorflow_stub/dtypes.py:543: FutureWarning: Passing (type, 1) or '1type' as a synonym of type is deprecated; in a future version of numpy, it will be understood as (type, (1,)) / '(1,)type'.\n",
      "  _np_qint16 = np.dtype([(\"qint16\", np.int16, 1)])\n",
      "/home/diogo/.local/lib/python3.7/site-packages/tensorboard/compat/tensorflow_stub/dtypes.py:544: FutureWarning: Passing (type, 1) or '1type' as a synonym of type is deprecated; in a future version of numpy, it will be understood as (type, (1,)) / '(1,)type'.\n",
      "  _np_quint16 = np.dtype([(\"quint16\", np.uint16, 1)])\n",
      "/home/diogo/.local/lib/python3.7/site-packages/tensorboard/compat/tensorflow_stub/dtypes.py:545: FutureWarning: Passing (type, 1) or '1type' as a synonym of type is deprecated; in a future version of numpy, it will be understood as (type, (1,)) / '(1,)type'.\n",
      "  _np_qint32 = np.dtype([(\"qint32\", np.int32, 1)])\n",
      "/home/diogo/.local/lib/python3.7/site-packages/tensorboard/compat/tensorflow_stub/dtypes.py:550: FutureWarning: Passing (type, 1) or '1type' as a synonym of type is deprecated; in a future version of numpy, it will be understood as (type, (1,)) / '(1,)type'.\n",
      "  np_resource = np.dtype([(\"resource\", np.ubyte, 1)])\n",
      "Using keras from \"/home/diogo/git/fchollet/keras\" version \"2.2.4\"\n",
      "\u001b[91mNo module named 'configobj'\u001b[0m\n"
     ]
    }
   ],
   "source": [
    "import os\n",
    "import sys\n",
    "\n",
    "import json\n",
    "import numpy as np\n",
    "import people\n",
    "\n",
    "import matplotlib.pyplot as plt\n",
    "\n",
    "import keras.backend as K\n",
    "\n",
    "from people.datasets import Human36M\n",
    "\n",
    "from people.evaluation import average_world_poses\n",
    "from people.evaluation import eval_human36m_activities\n",
    "\n",
    "from people.utils import *\n",
    "\n",
    "\n",
    "from people import datasetpath\n",
    "from people.datasets.human36m import ZBOUND\n",
    "from people.datasets.human36m import BBOX_REF"
   ]
  },
  {
   "cell_type": "code",
   "execution_count": 2,
   "metadata": {},
   "outputs": [
    {
     "data": {
      "text/plain": [
       "'/storage/diogo/Datasets/Human3.6M'"
      ]
     },
     "execution_count": 2,
     "metadata": {},
     "output_type": "execute_result"
    }
   ],
   "source": [
    "datasetpath('Human3.6M')"
   ]
  },
  {
   "cell_type": "code",
   "execution_count": 3,
   "metadata": {},
   "outputs": [],
   "source": [
    "h36m = Human36M(datasetpath('Human3.6M'), DataConfig(), [(32, 32)],\n",
    "        image_div=8, poselayout=est34j3d, preprocess_mode='caffe')\n",
    "\n",
    "poselayout = est34j3d\n",
    "num_joints = poselayout.num_joints\n",
    "anchor_id = 0\n",
    "\n",
    "saveddir = 'output/pred_h36m_022_val'\n",
    "\n",
    "p0_h36m = np.load(os.path.join(saveddir, 'p_h36m_hf0.npy'))\n",
    "p1_h36m = np.load(os.path.join(saveddir, 'p_h36m_hf1.npy'))\n",
    "afmat0_h36m = np.load(os.path.join(saveddir, 'afmat_h36m_hf0.npy'))\n",
    "afmat1_h36m = np.load(os.path.join(saveddir, 'afmat_h36m_hf1.npy'))\n",
    "pred0_z = np.load(os.path.join(saveddir, 'pred_absz_hf0.npy'))\n",
    "pred1_z = np.load(os.path.join(saveddir, 'pred_absz_hf1.npy'))\n",
    "pred0_p = np.load(os.path.join(saveddir, 'pred_pose_hf0.npy'))\n",
    "pred1_p = np.load(os.path.join(saveddir, 'pred_pose_hf1.npy'))\n",
    "\n",
    "pw_h36m = np.load(os.path.join(saveddir, 'pw_h36m_hf0.npy'))\n",
    "rootz_h36m = np.load(os.path.join(saveddir, 'rootz_h36m_hf0.npy'))\n",
    "scam_h36m = np.load(os.path.join(saveddir, 'scam_h36m_hf0.npy'))\n",
    "action_h36m = np.load(os.path.join(saveddir, 'action_h36m_hf0.npy'))\n",
    "\n",
    "with open(os.path.join(saveddir, 'meta_hf0.json'), 'r') as fid:\n",
    "    meta_h36m = json.load(fid)\n",
    "\n",
    "p1_h36m = p1_h36m[:, :, poselayout.map_hflip, :]\n",
    "pred1_p = pred1_p[:, :, poselayout.map_hflip, :]\n",
    "\n",
    "pw_h36m = pw_h36m[:, h36m23j3d.map_to_pa17j, :]\n",
    "\n",
    "p0_h36m = p0_h36m[:, anchor_id, :, :3]\n",
    "p0_h36m = p0_h36m[:, poselayout.map_to_pa17j, :]\n",
    "p1_h36m = p1_h36m[:, anchor_id, :, :3]\n",
    "p1_h36m = p1_h36m[:, poselayout.map_to_pa17j, :]\n",
    "\n",
    "pred0_p = pred0_p[:, anchor_id, :, :3]\n",
    "pred0_p = pred0_p[:, poselayout.map_to_pa17j, :]\n",
    "pred1_p = pred1_p[:, anchor_id, :, :3]\n",
    "pred1_p = pred1_p[:, poselayout.map_to_pa17j, :]\n",
    "\n",
    "cameras = [camera_deserialize(c) for c in scam_h36m]\n",
    "rootz = rootz_h36m[:, anchor_id:anchor_id+1]*(ZBOUND[1] - ZBOUND[0]) + ZBOUND[0]\n",
    "\n",
    "pred0_z = pred0_z[:, anchor_id:anchor_id+1]*(ZBOUND[1] - ZBOUND[0]) + ZBOUND[0]\n",
    "pred1_z = pred1_z[:, anchor_id:anchor_id+1]*(ZBOUND[1] - ZBOUND[0]) + ZBOUND[0]"
   ]
  },
  {
   "cell_type": "code",
   "execution_count": 4,
   "metadata": {},
   "outputs": [
    {
     "name": "stdout",
     "output_type": "stream",
     "text": [
      "Err_e on GT poses projected to world:  0.12344697948330895\n",
      "Err_e on GT poses projected to camera:  0.12344697948330399\n",
      "ABS err on predicted poses using GT cameras: 89.47 mm\n",
      "REL err on predicted poses using GT cameras: 49.29 mm\n"
     ]
    }
   ],
   "source": [
    "# \"\"\"Sanity check.\"\"\"\n",
    "pose_w = inverse_project_pose_to_camera_ref(p0_h36m, rootz, afmat0_h36m,\n",
    "        cameras, resol_z=BBOX_REF, project_to_world=True)\n",
    "err_w = np.mean(np.sqrt(np.sum(\n",
    "                np.square(pw_h36m - pose_w), axis=-1)))\n",
    "print ('Err_e on GT poses projected to world: ', err_w)\n",
    "\n",
    "pose_c1 = inverse_project_pose_to_camera_ref(p0_h36m, rootz, afmat0_h36m,\n",
    "        cameras, resol_z=BBOX_REF, project_to_world=False)\n",
    "\n",
    "pose_c_gt = np.nan * np.ones(pw_h36m.shape)\n",
    "for i in range(len(pose_c_gt)):\n",
    "    pose_c_gt[i] = project_world2camera(cameras[i], pw_h36m[i])\n",
    "\n",
    "err_c = abs_mpjpe(pose_c1, pose_c_gt)\n",
    "print ('Err_e on GT poses projected to camera: ', err_c)\n",
    "\n",
    "\"\"\"Predictions using GT camera parameters.\"\"\"\n",
    "pred0_w = inverse_project_pose_to_camera_ref(pred0_p.copy(), pred0_z.copy(),\n",
    "            afmat0_h36m, cameras, resol_z=BBOX_REF, project_to_world=True)\n",
    "pred1_w = inverse_project_pose_to_camera_ref(pred1_p.copy(), pred1_z.copy(),\n",
    "            afmat1_h36m, cameras, resol_z=BBOX_REF, project_to_world=True)\n",
    "pred_w = (pred0_w + pred1_w) / 2.\n",
    "\n",
    "pred_c = np.nan * np.ones(pred_w.shape)\n",
    "for i in range(len(pred_c)):\n",
    "    pred_c[i] = project_world2camera(cameras[i], pred_w[i])\n",
    "\n",
    "err_pred = abs_mpjpe(pred_c, pose_c_gt)\n",
    "print ('ABS err on predicted poses using GT cameras: %.2f mm' % err_pred)\n",
    "\n",
    "err_pred = rel_mpjpe(pred_c, pose_c_gt)\n",
    "print ('REL err on predicted poses using GT cameras: %.2f mm' % err_pred)\n",
    "\n",
    "puvd0 = pred0_p.copy()\n",
    "puvd0[:, :, 0:2] = transform_pose_sequence(afmat0_h36m.copy(), puvd0[:, :, 0:2],\n",
    "        inverse=True)\n",
    "puvd0[:, :, 2] = BBOX_REF * (puvd0[:, :, 2] - 0.5) + pred0_z\n",
    "\n",
    "puvd1 = pred1_p.copy()\n",
    "puvd1[:, :, 0:2] = transform_pose_sequence(afmat1_h36m.copy(), puvd1[:, :, 0:2],\n",
    "        inverse=True)\n",
    "puvd1[:, :, 2] = BBOX_REF * (puvd1[:, :, 2] - 0.5) + pred1_z\n",
    "\n",
    "puvd = (puvd0 + puvd1) / 2."
   ]
  },
  {
   "cell_type": "code",
   "execution_count": 5,
   "metadata": {},
   "outputs": [
    {
     "name": "stdout",
     "output_type": "stream",
     "text": [
      "Results not considering the lens distortion coefficients:\n",
      "ABS err on predicted poses using est. cameras: 90.08 mm\n",
      "REL err on predicted poses using est. cameras: 50.01 mm\n"
     ]
    }
   ],
   "source": [
    "pc_gtcam = np.zeros(puvd.shape)\n",
    "for i in range(len(puvd)):\n",
    "    pc_gtcam[i] = camera_inv_proj(puvd[i],\n",
    "            cameras[i].f[0,0], cameras[i].f[0,1],\n",
    "            cameras[i].c[0,0], cameras[i].c[0,1])\n",
    "\n",
    "print ('Results not considering the lens distortion coefficients:')\n",
    "\n",
    "err_pred = abs_mpjpe(pc_gtcam, pose_c_gt)\n",
    "print ('ABS err on predicted poses using est. cameras: %.2f mm' % err_pred)\n",
    "\n",
    "err_pred = rel_mpjpe(pc_gtcam, pose_c_gt)\n",
    "print ('REL err on predicted poses using est. cameras: %.2f mm' % err_pred)"
   ]
  },
  {
   "cell_type": "code",
   "execution_count": 6,
   "metadata": {},
   "outputs": [],
   "source": [
    "def std_mpjpe(p1, p2):\n",
    "    return np.std(np.sqrt(np.sum(np.square(p1 - p2), axis=-1)))\n",
    "\n",
    "def dist_mpjpe(p1, p2):\n",
    "    return np.sqrt(np.sum(np.square(p1 - p2), axis=-1))\n",
    "\n",
    "def predict_camera_parameters(puvd1, puvd2, miniter=100, maxiter=600,\n",
    "        alpha=0.8, f_init=500, c_init=500):\n",
    "\n",
    "    assert puvd1.shape == puvd2.shape, \\\n",
    "        'Incompatible pose shapes {},{}'.format(puvd1.shape, puvd2.shape)\n",
    "    \n",
    "    # Initialize variables\n",
    "    f1 = np.array([[f_init, f_init]])\n",
    "    f2 = np.array([[f_init, f_init]])\n",
    "    c1 = np.array([[c_init, c_init]])\n",
    "    c2 = np.array([[c_init, c_init]])\n",
    "\n",
    "    pc1 = predict_xy_mm(puvd1, f1, c1)\n",
    "    pc2 = predict_xy_mm(puvd2, f2, c2)\n",
    "\n",
    "    X1 = pc1\n",
    "    X2 = np.concatenate([pc2, np.ones((len(pc2), 1))], axis=-1)\n",
    "    P21_init = getP(X2, X1)\n",
    "\n",
    "    pc1_init = project_poses(pc2, P21_init)\n",
    "    t2 = -np.matmul(np.linalg.inv(P21_init[:,:3]), P21_init[:,3:4])\n",
    "    loss = []\n",
    "    prev_loss = 1e4\n",
    "    min_loss = 1e4\n",
    "    \n",
    "    spl = range(len(puvd1))\n",
    "\n",
    "    for i in range(maxiter):\n",
    "        puvd1_b = puvd1[spl]\n",
    "        puvd2_b = puvd2[spl]\n",
    "        pc1_b = pc1[spl]\n",
    "        pc2_b = pc2[spl]\n",
    "        \n",
    "        R21 = kabsch_alignment(pc2_b - t2.T, pc1_b)\n",
    "        t2 = optimize_translation(pc2_b, pc1_b, R21)\n",
    "        R12 = np.linalg.inv(R21)\n",
    "        t1 = -np.matmul(R21, t2)\n",
    "\n",
    "        P21 = np.concatenate([R21, t1], axis=-1)\n",
    "        P12 = np.concatenate([R12, t2], axis=-1)\n",
    "\n",
    "        if i % 4 == 0:\n",
    "            f1 = optimize_focal(puvd1_b, pc2_b, P21, c1)\n",
    "            f1[0,0] = alpha*f1[0,0] + (1-alpha)*f1[0,1]\n",
    "            f1[0,1] = (1-alpha)*f1[0,0] + alpha*f1[0,1]\n",
    "\n",
    "        elif i % 4 == 1:\n",
    "            f2 = optimize_focal(puvd2_b, pc1_b, P12, c2)\n",
    "            f2[0,0] = alpha*f2[0,0] + (1-alpha)*f2[0,1]\n",
    "            f2[0,1] = (1-alpha)*f2[0,0] + alpha*f2[0,1]\n",
    "\n",
    "        elif i % 4 == 2:\n",
    "            c1 = optimize_center(puvd1_b, pc2_b, P21, f1)\n",
    "            c1[0,0] = alpha*c1[0,0] + (1-alpha)*c1[0,1]\n",
    "            c1[0,1] = (1-alpha)*c1[0,0] + alpha*c1[0,1]\n",
    "\n",
    "        elif i % 4 == 3:\n",
    "            c2 = optimize_center(puvd2_b, pc1_b, P12, f2)\n",
    "            c2[0,0] = alpha*c2[0,0] + (1-alpha)*c2[0,1]\n",
    "            c2[0,1] = (1-alpha)*c2[0,0] + alpha*c2[0,1]\n",
    "        \n",
    "        pc1 = predict_xy_mm(puvd1, f1, c1)\n",
    "        pc2 = predict_xy_mm(puvd2, f2, c2)\n",
    "\n",
    "        pc2c1 = project_poses(pc2, P21)\n",
    "        err = abs_mpjpe(pc2c1, pc1)\n",
    "        std = std_mpjpe(pc2c1, pc1)\n",
    "        dist = dist_mpjpe(pc2c1, pc1)\n",
    "        spl = dist < err + 2*std\n",
    "        loss.append(err)\n",
    "\n",
    "        if i > miniter and (loss[-1] > prev_loss or loss[-1] > min_loss + 1):\n",
    "            break\n",
    "\n",
    "        prev_loss = 0.5*prev_loss + 0.5*loss[-1]\n",
    "        if loss[-1] < min_loss:\n",
    "            min_loss = loss[-1]\n",
    "            f1o = f1.copy()\n",
    "            c1o = c1.copy()\n",
    "            f2o = f2.copy()\n",
    "            c2o = c2.copy()\n",
    "            P21o = P21.copy()\n",
    "            P12o = P12.copy()\n",
    "\n",
    "    return f1o, c1o, f2o, c2o, P21o, P12o, np.array(loss)\n"
   ]
  },
  {
   "cell_type": "code",
   "execution_count": 7,
   "metadata": {},
   "outputs": [
    {
     "name": "stdout",
     "output_type": "stream",
     "text": [
      "Warning! Sample 2 11 2 2 empty!\n",
      "Warning! Sample 2 11 2 3 empty!\n",
      "Warning! Sample 2 11 2 4 empty!\n",
      "114.92414622073764 43.528605876429474\n"
     ]
    }
   ],
   "source": [
    "cam_to_use = [1, 2, 3, 4]\n",
    "pose_c_pred = np.zeros(pose_c_gt.shape)\n",
    "alpha = 1 / len(cam_to_use)\n",
    "\n",
    "e1_list = []\n",
    "e2_list = []\n",
    "\n",
    "i = 0\n",
    "while i < len(pose_c_pred):\n",
    "    a, s, e, c, f = meta_h36m[i]\n",
    "    #print (a, s, e, c, f)\n",
    "\n",
    "    idxs = {}\n",
    "    for ic in range(4):\n",
    "        idxs[ic+1] = get_idxs_sequence(meta_h36m, asec=(a, s, e, ic+1))\n",
    "\n",
    "    try:\n",
    "        pairlist = cam_to_use.copy()\n",
    "        del pairlist[pairlist.index(c)]\n",
    "    except:\n",
    "        pass\n",
    "\n",
    "    puvd1 = puvd[idxs[c]]\n",
    "    cam1 = cameras[idxs[c][0]]\n",
    "    if len(puvd1) == 0:\n",
    "        print ('Warning! Sample %d %d %d %d empty!' % (a, s, e, c))\n",
    "        continue\n",
    "    num_samples, num_joints, dim = puvd1.shape\n",
    "    pc_est = np.zeros((num_samples * num_joints, dim))\n",
    "\n",
    "    for pc in pairlist:\n",
    "        puvd2 = puvd[idxs[pc]]\n",
    "        if len(puvd2) == 0:\n",
    "            print ('Warning! Sample %d %d %d %d empty!' % (a, s, e, c))\n",
    "            continue\n",
    "\n",
    "        puvd1 = np.reshape(puvd1, (num_samples * num_joints, dim))\n",
    "        puvd2 = np.reshape(puvd2, (num_samples * num_joints, dim))\n",
    "\n",
    "        cam2 = cameras[idxs[pc][0]]\n",
    "\n",
    "        t2cam1 = np.matmul(cam1.R, cam2.t-cam1.t)\n",
    "        t1cam2 = np.matmul(cam2.R, cam1.t-cam2.t)\n",
    "\n",
    "        #print (t2cam1.T)\n",
    "        #print (t1cam2.T)\n",
    "\n",
    "        f1, c1, f2, c2, P21, P12, loss = predict_camera_parameters(puvd1, puvd2)\n",
    "        #print (f1, c1, f2, c2)\n",
    "        #plt.plot(loss)\n",
    "\n",
    "        #print ('t1', t1_est)\n",
    "        #print ('t2', t2_est)\n",
    "        e1 = abs_mpjpe(t2cam1, P21[:, -1:])\n",
    "        e2 = abs_mpjpe(t1cam2, P12[:, -1:])\n",
    "        #print (e1, e2)\n",
    "        e1_list.append(e1)\n",
    "        e2_list.append(e2)\n",
    "\n",
    "        pc1_est = predict_xy_mm(puvd1, f1, c1)\n",
    "        pc2_est = predict_xy_mm(puvd2, f2, c2)\n",
    "        pc_est += alpha * pc1_est + (1 - alpha) * project_poses(pc2_est, P21)\n",
    "\n",
    "    pc_est /= len(pairlist)\n",
    "    #pc_gt = pose_c_gt[idxs[c]]\n",
    "    #print (abs_mpjpe(pc_est, pc_gt), rel_mpjpe(pc_est, pc_gt))\n",
    "\n",
    "    pc_est = np.reshape(pc_est, (num_samples, num_joints, dim))\n",
    "    pose_c_pred[i:i+len(pc_est), :, :] = pc_est\n",
    "    i += len(pc_est)\n",
    "\n",
    "\"\"\"Removing empty sequences\"\"\"\n",
    "for c in range(4):\n",
    "    idxs = get_idxs_sequence(meta_h36m, asec=(2, 11, 2, c+1))\n",
    "    pose_c_pred[idxs] = 0\n",
    "    pose_c_gt[idxs] = 0\n",
    "\n",
    "print (abs_mpjpe(pose_c_pred, pose_c_gt), rel_mpjpe(pose_c_pred, pose_c_gt))"
   ]
  },
  {
   "cell_type": "code",
   "execution_count": 90,
   "metadata": {},
   "outputs": [
    {
     "name": "stdout",
     "output_type": "stream",
     "text": [
      "179.5698924844859\n",
      "188.07815776346024\n"
     ]
    }
   ],
   "source": [
    "print (np.array(e1_list).mean())\n",
    "print (np.array(e2_list).mean())"
   ]
  },
  {
   "cell_type": "code",
   "execution_count": 8,
   "metadata": {},
   "outputs": [
    {
     "name": "stdout",
     "output_type": "stream",
     "text": [
      "\u001b[94mDirections: 55.9\u001b[0m\n",
      "\u001b[94mDiscussion: 38.2\u001b[0m\n",
      "\u001b[94mEating: 39.0\u001b[0m\n",
      "\u001b[94mGreeting: 39.8\u001b[0m\n",
      "\u001b[94mPhoning: 42.0\u001b[0m\n",
      "\u001b[94mPosing: 39.5\u001b[0m\n",
      "\u001b[94mPurchases: 41.2\u001b[0m\n",
      "\u001b[94mSitting: 67.5\u001b[0m\n",
      "\u001b[94mSittingDown: 73.4\u001b[0m\n",
      "\u001b[94mSmoking: 42.5\u001b[0m\n",
      "\u001b[94mTakingPhoto: 45.1\u001b[0m\n",
      "\u001b[94mWaiting: 40.3\u001b[0m\n",
      "\u001b[94mWalking: 31.6\u001b[0m\n",
      "\u001b[94mWalkingDog: 41.2\u001b[0m\n",
      "\u001b[94mWalkingTogether: 35.8\u001b[0m\n"
     ]
    }
   ],
   "source": [
    "from people.evaluation import eval_human36m_activities\n",
    "\n",
    "pose_c_pred -= pose_c_pred[:, 0:1, :]\n",
    "pose_c_gt -= pose_c_gt[:, 0:1, :]\n",
    "eval_human36m_activities(pose_c_pred, pose_c_gt, action_h36m)"
   ]
  },
  {
   "cell_type": "code",
   "execution_count": 9,
   "metadata": {},
   "outputs": [
    {
     "name": "stdout",
     "output_type": "stream",
     "text": [
      "25.97586790345391 25.97586790345391\n",
      "37.16420227842113 37.16420227842113\n",
      "44.85988945268579 44.85988945268579\n"
     ]
    }
   ],
   "source": [
    "prev_pred = np.load('pred_h36m_val_022d_079_multicam.npy')\n",
    "\n",
    "print (abs_mpjpe(pose_c_pred, prev_pred), rel_mpjpe(pose_c_pred, prev_pred))\n",
    "print (abs_mpjpe(pose_c_gt, prev_pred), rel_mpjpe(pose_c_gt, prev_pred))\n",
    "print (abs_mpjpe(pose_c_gt, pose_c_pred), rel_mpjpe(pose_c_gt, pose_c_pred))"
   ]
  },
  {
   "cell_type": "code",
   "execution_count": 10,
   "metadata": {},
   "outputs": [
    {
     "name": "stdout",
     "output_type": "stream",
     "text": [
      "[[1226.53096709 1219.08934032]] [[506.17564355 506.03946699]] [[1189.75552262 1193.81291648]] [[475.25246835 475.64904758]]\n",
      "47.95568630519882\n",
      "58.93679194125264\n",
      "54.012748533452196\n",
      "499 55.24608504313956 55.24608504313956\n"
     ]
    },
    {
     "name": "stderr",
     "output_type": "stream",
     "text": [
      "/home/diogo/.local/lib/python3.7/site-packages/matplotlib/font_manager.py:1241: UserWarning: findfont: Font family ['serif'] not found. Falling back to DejaVu Sans.\n",
      "  (prop.get_family(), self.defaultFamily[fontext]))\n"
     ]
    },
    {
     "data": {
      "image/png": "[encoded data removed]",
      "text/plain": [
       "<Figure size 432x288 with 1 Axes>"
      ]
     },
     "metadata": {
      "needs_background": "light"
     },
     "output_type": "display_data"
    }
   ],
   "source": [
    "\"\"\"Load poses in uvd format for a set of cameras.\"\"\"\n",
    "idxs1 = get_idxs_sequence(meta_h36m, (2, 9, 1, 1))\n",
    "idxs2 = get_idxs_sequence(meta_h36m, (2, 9, 1, 3))\n",
    "\n",
    "#idxs1 = idxs1[0:1]\n",
    "#idxs2 = idxs2[0:1]\n",
    "\n",
    "puvd1 = puvd[idxs1]\n",
    "puvd2 = puvd[idxs2]\n",
    "pc1_gt = pose_c_gt[idxs1]\n",
    "pc2_gt = pose_c_gt[idxs2]\n",
    "\n",
    "\n",
    "num_samples, num_joints, dim = puvd1.shape\n",
    "puvd1 = np.reshape(puvd1, (num_samples * num_joints, dim))\n",
    "puvd2 = np.reshape(puvd2, (num_samples * num_joints, dim))\n",
    "\n",
    "\n",
    "f1, c1, f2, c2, P21, P12, loss = predict_camera_parameters(puvd1, puvd2, 100, 500)\n",
    "print (f1, c1, f2, c2)\n",
    "pc1_cal = predict_xy_mm(puvd1, cameras[idxs1[0]].f, cameras[idxs1[0]].c)\n",
    "pc1_est = predict_xy_mm(puvd1, f1, c1)\n",
    "\n",
    "pc1_cal = np.reshape(pc1_cal, (num_samples, num_joints, dim))\n",
    "pc1_est = np.reshape(pc1_est, (num_samples, num_joints, dim))\n",
    "\n",
    "print (rel_mpjpe(pc1_gt, pc1_cal))\n",
    "print (rel_mpjpe(pc1_gt, pc1_est))\n",
    "\n",
    "pc2_est = predict_xy_mm(puvd2, f2, c2)\n",
    "pc2_est = project_poses(pc2_est, P21)\n",
    "\n",
    "pc2_est = np.reshape(pc2_est, (num_samples, num_joints, dim))\n",
    "pc1_est = (pc1_est + pc2_est) / 2.\n",
    "\n",
    "print (rel_mpjpe(pc1_gt, pc1_est))\n",
    "\n",
    "plt.plot(loss)\n",
    "print (np.argmin(loss), loss.min(), loss[-1])\n"
   ]
  },
  {
   "cell_type": "code",
   "execution_count": null,
   "metadata": {},
   "outputs": [],
   "source": []
  }
 ],
 "metadata": {
  "kernelspec": {
   "display_name": "Python 3",
   "language": "python",
   "name": "python3"
  },
  "language_info": {
   "codemirror_mode": {
    "name": "ipython",
    "version": 3
   },
   "file_extension": ".py",
   "mimetype": "text/x-python",
   "name": "python",
   "nbconvert_exporter": "python",
   "pygments_lexer": "ipython3",
   "version": "3.6.9"
  }
 },
 "nbformat": 4,
 "nbformat_minor": 2
}
